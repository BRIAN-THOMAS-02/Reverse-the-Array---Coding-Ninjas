{
 "cells": [
  {
   "cell_type": "markdown",
   "id": "bafbee49",
   "metadata": {},
   "source": [
    "<div class=\"alert alert-block alert-success\" align=\"center\">\n",
    "\n",
    "# Coding Ninjas \n",
    "# (Interview Problem)\n",
    "\n",
    "</div>"
   ]
  },
  {
   "cell_type": "markdown",
   "id": "26212b03",
   "metadata": {},
   "source": [
    "***"
   ]
  },
  {
   "cell_type": "markdown",
   "id": "a982170c",
   "metadata": {},
   "source": [
    "<div class=\"alert alert-block alert-warning\" align=\"center\">\n",
    " \n",
    "# ***Reverse the Array***\n",
    "\n",
    "</div>"
   ]
  },
  {
   "cell_type": "markdown",
   "id": "20ae2b2f",
   "metadata": {},
   "source": [
    "<div>\n",
    "    \n",
    "## Problem Statement : \n",
    "\n",
    "<b> Given an array/list 'ARR' of integers and a position ‘M’. You have to reverse the array after that position. <br>\n",
    "     \n",
    "</div>"
   ]
  },
  {
   "cell_type": "markdown",
   "id": "45793ebd",
   "metadata": {},
   "source": [
    "***"
   ]
  },
  {
   "cell_type": "markdown",
   "id": "5a5da8dc",
   "metadata": {},
   "source": [
    "<div>\n",
    "\n",
    "## Input Format:\n",
    "<b> 1] </b> The very first line of input contains an integer <b>‘T’ <u>denoting the number of test cases.</b></u>\n",
    "\n",
    "&nbsp;&nbsp;&nbsp;&nbsp;&nbsp; <b> A) </b> The first line of every test case contains: <br>\n",
    "&nbsp;&nbsp;&nbsp;&nbsp;&nbsp;&nbsp;&nbsp;&nbsp;&nbsp;&nbsp; <b> 1) </b> One Integer 'N' | where <b>‘N’ <u>denotes the number of elements. </b></u> <br>\n",
    "&nbsp;&nbsp;&nbsp;&nbsp;&nbsp;&nbsp;&nbsp;&nbsp;&nbsp;&nbsp; <b> 2) </b> One Integer 'M' | where <b>'M' <u>denotes the POSITION after which position the array has to be reversed. </b></u> <br>\n",
    " \n",
    "\n",
    "&nbsp;&nbsp;&nbsp;&nbsp;&nbsp; <b> B) </b> The second line of every test case contains <b>‘N’ <u> space-separated integers which denote the elements of input of array / list.</b></u>\n",
    "    \n",
    "</div>"
   ]
  },
  {
   "cell_type": "markdown",
   "id": "ebe159f6",
   "metadata": {},
   "source": [
    "<div>\n",
    "\n",
    "## Output Format: <br>\n",
    "\n",
    "For each test case, return the required array.\n",
    "\n",
    "#### Output for each test case is printed on a separate line.\n",
    "\n",
    "</div>"
   ]
  },
  {
   "cell_type": "markdown",
   "id": "fa3dc1a3",
   "metadata": {},
   "source": [
    "***"
   ]
  },
  {
   "cell_type": "markdown",
   "id": "121454da",
   "metadata": {},
   "source": [
    "<div>\n",
    "\n",
    "## Sample Input : \n",
    "2                  <br>\n",
    "6 3                <br>\n",
    "1 2 3 4 5 6        <br>\n",
    "5 2                <br>\n",
    "10 9 8 7 6         <br>\n",
    "\n",
    "</div>"
   ]
  },
  {
   "cell_type": "markdown",
   "id": "6dd86fab",
   "metadata": {},
   "source": [
    "<div>\n",
    "\n",
    "## Sample Output :\n",
    "1 2 3 4 6 5 <br>\n",
    "10 9 8 6 7  <br>\n",
    "\n",
    "</div>"
   ]
  },
  {
   "cell_type": "markdown",
   "id": "cb9be825",
   "metadata": {},
   "source": [
    "***"
   ]
  },
  {
   "cell_type": "markdown",
   "id": "9a3aa8f7",
   "metadata": {},
   "source": [
    "<div  class=\"alert alert-block alert-success\" align=\"center\">\n",
    "\n",
    "# Whole Program\n",
    "\n",
    "</div>"
   ]
  },
  {
   "cell_type": "code",
   "execution_count": 19,
   "id": "1a3e1839",
   "metadata": {},
   "outputs": [
    {
     "name": "stdout",
     "output_type": "stream",
     "text": [
      "1\n",
      "6 3\n",
      "1 2 3 4 5 6\n",
      "\n",
      "  ARRAY  :  [1, 2, 3, 4, 5, 6]\n",
      "\n",
      "\n",
      "Reversed :  [1, 2, 3, 4, 6, 5]\n"
     ]
    }
   ],
   "source": [
    "def reverseArray(arr, k):\n",
    "    \n",
    "    reserve_arr = arr[k+1::1]\n",
    "    \n",
    "    print(\"\\n\\nReversed : \", arr[:k+1] + reserve_arr[::-1])\n",
    "    \n",
    "\n",
    "test_cases = int(input())\n",
    "\n",
    "while test_cases > 0:\n",
    "    n,k = map(int,input().split())\n",
    "    \n",
    "    arr = [int(i) for i in input().split()]\n",
    "    print(\"\\n  ARRAY  : \", arr)\n",
    "    \n",
    "    reverseArray(arr,k)\n",
    "    \n",
    "    test_cases -=1"
   ]
  },
  {
   "cell_type": "markdown",
   "id": "4933ae33",
   "metadata": {},
   "source": [
    "***"
   ]
  },
  {
   "cell_type": "markdown",
   "id": "9664d63b",
   "metadata": {},
   "source": [
    "<div class=\"alert alert-block alert-success\">\n",
    "\n",
    "## Basically we are: <br>\n",
    "    \n",
    "<b> 1) </b> Seperating the values after <u><b>'k'. </b></u> <br><br>\n",
    "    \n",
    "<b> 2) </b> Adding the <u><b>Untouched Values before 'k'</b></u> with the <u><b>Reversed Seperated Values after <u>'k'</u>!</b></u> <br>\n",
    "\n",
    "    \n",
    "</div>"
   ]
  },
  {
   "cell_type": "markdown",
   "id": "39f7b9c3",
   "metadata": {},
   "source": [
    "***"
   ]
  },
  {
   "cell_type": "markdown",
   "id": "09a32ba5",
   "metadata": {},
   "source": [
    "<div class=\"alert alert-block alert-warning\" align=\"center\">\n",
    " \n",
    "# ***Part by Part Explanation***\n",
    "\n",
    "</div>"
   ]
  },
  {
   "cell_type": "markdown",
   "id": "48f6cde3",
   "metadata": {},
   "source": [
    "***"
   ]
  },
  {
   "cell_type": "markdown",
   "id": "571f94ae",
   "metadata": {},
   "source": [
    "<div>\n",
    "\n",
    "### 1] Taking input for Number of Test Cases: <br>\n",
    "\n",
    "</div>"
   ]
  },
  {
   "cell_type": "code",
   "execution_count": null,
   "id": "51cafdaa",
   "metadata": {},
   "outputs": [],
   "source": [
    "test_cases = int(input())"
   ]
  },
  {
   "cell_type": "markdown",
   "id": "37ff9d1e",
   "metadata": {},
   "source": [
    "***"
   ]
  },
  {
   "cell_type": "markdown",
   "id": "1e6acb6d",
   "metadata": {},
   "source": [
    "### 2] Initiating a while loop if 'test_cases' > 0 : <br>\n",
    "\n",
    "    \n",
    "&nbsp;&nbsp;&nbsp;&nbsp;&nbsp; 1) &nbsp; <b>n</b> &nbsp; = &nbsp; Taking input for how many numbers are we going to input <br>\n",
    "&nbsp;&nbsp;&nbsp;&nbsp;&nbsp; 2) &nbsp; <b>k</b> &nbsp; = &nbsp; k'th Number from which the Array must be Reversed <br>\n",
    "    \n",
    "&nbsp;&nbsp;&nbsp;&nbsp;&nbsp; 3) <u><b>arr</b></u> &nbsp; = &nbsp; Taking Input of all the numbers into ar array! <br>\n",
    "    \n",
    "    \n",
    "&nbsp;&nbsp;&nbsp;&nbsp;&nbsp; 4) Calling the <u><b>'reverseArray'</b></u> Function and passing the <u><b>'arr'</b></u> and <u><b>'k'</b></u> as parameters \n",
    "\n",
    "#### &nbsp;&nbsp;&nbsp;&nbsp;&nbsp; 5) After completing the Function provides the output!"
   ]
  },
  {
   "cell_type": "code",
   "execution_count": null,
   "id": "11c51e05",
   "metadata": {},
   "outputs": [],
   "source": [
    "while test_cases > 0:\n",
    "    n,k = map(int,input().split())\n",
    "    \n",
    "    arr = [int(i) for i in input().split()]\n",
    "    print(\"\\n  ARRAY  : \", arr)\n",
    "    \n",
    "    reverseArray(arr,k)\n",
    "    \n",
    "    test_cases -=1"
   ]
  },
  {
   "cell_type": "markdown",
   "id": "2e318334",
   "metadata": {},
   "source": [
    "***"
   ]
  },
  {
   "cell_type": "markdown",
   "id": "f0d8ecbc",
   "metadata": {},
   "source": [
    "<div class=\"alert alert-block alert-warning\">\n",
    "\n",
    "## 3] Function 'reverseArray'\n",
    "    \n",
    "</div>"
   ]
  },
  {
   "cell_type": "markdown",
   "id": "4206f4e6",
   "metadata": {},
   "source": [
    "<div>\n",
    "\n",
    "### Foundations of Array : &nbsp; <u> a[start:end:step] </u>\n",
    "    \n",
    "Consider an Array, <br> <b> a = [1, 2, 3, 4, 5, 6, 7, 8, 9, 10] </b> <br>\n",
    "    \n",
    "#### We perofrm the Following Operations: \n",
    "    \n",
    "1) <b>a[1::2] = </b> we get every odd index.  <b>(Since starting from 1 and stepping every 2 numbers)</b>     <br><br>\n",
    "    \n",
    "2) <b>a[::2] = </b> we get every even index. <b>(Since starting from 0 and stepping every 2 numbers)</b>    <br><br>\n",
    "    \n",
    "3) <b>a[2::2] = </b> we get every even index starting from '2'. <b>(Since we start from number '2' and step every 2 numbers)</b> <br><br>\n",
    "    \n",
    "4) <b>a[2:4:2] = </b> we get every even index starting from '2' & ending at '4'. <b>(Since we are starting from number '2', stepping every 2 numbers and stopping at '4')</b>   <br><br>\n",
    "\n",
    "    \n",
    "</div>"
   ]
  },
  {
   "cell_type": "code",
   "execution_count": 24,
   "id": "c351eacb",
   "metadata": {},
   "outputs": [
    {
     "name": "stdout",
     "output_type": "stream",
     "text": [
      "Operation 1 :  [2, 4, 6, 8, 10]\n",
      "\n",
      "Operation 2 :  [1, 3, 5, 7, 9]\n",
      "\n",
      "Operation 3 :  [3, 5, 7, 9]\n",
      "\n",
      "Operation 4 :  [3]\n"
     ]
    }
   ],
   "source": [
    "a = [1, 2, 3, 4, 5, 6, 7, 8, 9, 10]\n",
    "\n",
    "print(\"Operation 1 : \", a[1::2])\n",
    "\n",
    "print(\"\\nOperation 2 : \", a[::2])\n",
    "\n",
    "print(\"\\nOperation 3 : \", a[2::2])\n",
    "\n",
    "print(\"\\nOperation 4 : \", a[2:4:2])"
   ]
  },
  {
   "cell_type": "markdown",
   "id": "90ab062a",
   "metadata": {},
   "source": [
    "<div>\n",
    "   \n",
    "### In the Following Function we are: <br>\n",
    "    \n",
    "<b> 1] </b> In this Line  <b>\"reserve_arr = arr[k+1::1]\" </b>, we are : <br>\n",
    "\n",
    "<b> Seperating values after 'k+1''th Element and storing it in variable called reserve_arr </b> <br><br>\n",
    "\n",
    "<b> 2] </b> In this Line <b>print(\"\\n\\nReversed : \", arr[:k+1] + reserve_arr[::-1])</b>, we are: <br>\n",
    "\n",
    "<b>Adding the Untouched Values before the 'k+1''th Element with the Reversed Numbers after the 'k+1''th Position</b>\n",
    "    \n",
    "</div>"
   ]
  },
  {
   "cell_type": "code",
   "execution_count": 15,
   "id": "03e315fe",
   "metadata": {},
   "outputs": [],
   "source": [
    "def reverseArray(arr, k):\n",
    "    \n",
    "    reserve_arr = arr[k+1::1]\n",
    "    \n",
    "    print(\"\\n\\nReversed : \", arr[:k+1] + reserve_arr[::-1])\n",
    "    "
   ]
  },
  {
   "cell_type": "markdown",
   "id": "df068387",
   "metadata": {},
   "source": [
    "***"
   ]
  },
  {
   "cell_type": "markdown",
   "id": "98b6d5b3",
   "metadata": {},
   "source": [
    "<div class=\"alert alert-block alert-success\" align=\"center\">\n",
    " \n",
    "# ***Program with Simple Output***\n",
    "\n",
    "</div>"
   ]
  },
  {
   "cell_type": "code",
   "execution_count": 17,
   "id": "3c7871a9",
   "metadata": {},
   "outputs": [
    {
     "name": "stdout",
     "output_type": "stream",
     "text": [
      "1\n",
      "6 3\n",
      "1 2 3 4 5 6\n",
      "1 2 3 4 6 5\n"
     ]
    }
   ],
   "source": [
    "def reverseArray(arr, k):\n",
    "    \n",
    "    reserve_arr = arr[k+1::1]\n",
    "    \n",
    "    final_ans = (arr[:k+1] + reserve_arr[::-1])\n",
    "    print(*final_ans)\n",
    "    #print(arr[:k+1] + reserve_arr[::-1])\n",
    "    \n",
    "\n",
    "test_cases = int(input())\n",
    "\n",
    "while test_cases > 0:\n",
    "    n,k = map(int,input().split())\n",
    "    \n",
    "    arr = [int(i) for i in input().split()]\n",
    "    \n",
    "    reverseArray(arr,k)\n",
    "    \n",
    "    test_cases -=1"
   ]
  },
  {
   "cell_type": "markdown",
   "id": "7eaaa27e",
   "metadata": {},
   "source": [
    "***"
   ]
  },
  {
   "cell_type": "markdown",
   "id": "932f8aa2",
   "metadata": {},
   "source": [
    "<div class=\"alert alert-block alert-success\" align=\"center\">\n",
    " \n",
    "# ***Thank - You***\n",
    "\n",
    "</div>"
   ]
  }
 ],
 "metadata": {
  "kernelspec": {
   "display_name": "Python 3 (ipykernel)",
   "language": "python",
   "name": "python3"
  },
  "language_info": {
   "codemirror_mode": {
    "name": "ipython",
    "version": 3
   },
   "file_extension": ".py",
   "mimetype": "text/x-python",
   "name": "python",
   "nbconvert_exporter": "python",
   "pygments_lexer": "ipython3",
   "version": "3.8.10"
  }
 },
 "nbformat": 4,
 "nbformat_minor": 5
}
